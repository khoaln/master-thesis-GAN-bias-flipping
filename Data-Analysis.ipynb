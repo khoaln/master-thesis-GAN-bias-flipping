{
 "cells": [
  {
   "cell_type": "code",
   "execution_count": 26,
   "metadata": {},
   "outputs": [],
   "source": [
    "import pandas as pd\n",
    "pd.set_option('display.max_rows', 500)"
   ]
  },
  {
   "cell_type": "code",
   "execution_count": 27,
   "metadata": {},
   "outputs": [],
   "source": [
    "dev = pd.read_csv('~/Documents/UiS/Thesis/dataset/public_data_multi_fc/dev.tsv', sep='\\t', header=None)\n",
    "test = pd.read_csv('~/Documents/UiS/Thesis/dataset/public_data_multi_fc/test.tsv', sep='\\t', header=None)\n",
    "train = pd.read_csv('~/Documents/UiS/Thesis/dataset/public_data_multi_fc/train.tsv', sep='\\t', header=None)"
   ]
  },
  {
   "cell_type": "markdown",
   "metadata": {},
   "source": [
    "There 117 distinct labels "
   ]
  },
  {
   "cell_type": "code",
   "execution_count": 28,
   "metadata": {},
   "outputs": [
    {
     "data": {
      "text/plain": [
       "false                                 5537\n",
       "mostly true                           2466\n",
       "mostly false                          2454\n",
       "true                                  2442\n",
       "half-true                             2428\n",
       "0                                     1957\n",
       "pants on fire!                        1287\n",
       "fiction!                              1246\n",
       "none                                   933\n",
       "truth!                                 621\n",
       "mixture                                555\n",
       "promise kept                           441\n",
       "unproven                               431\n",
       "facebook scams                         384\n",
       "1                                      253\n",
       "true messages                          242\n",
       "promise broken                         218\n",
       "compromise                             185\n",
       "bogus warning                          176\n",
       "unproven!                              176\n",
       "in-between                             175\n",
       "truth! & fiction!                      137\n",
       "verdict: true                          125\n",
       "verdict: false                         124\n",
       "miscaptioned                           122\n",
       "full flop                              118\n",
       "statirical reports                     112\n",
       "determination: false                   101\n",
       "in the works                            99\n",
       "incorrect                               97\n",
       "correct                                 96\n",
       "misleading                              94\n",
       "2                                       92\n",
       "in-the-red                              90\n",
       "in-the-green                            83\n",
       "determination: true                     80\n",
       "not yet rated                           74\n",
       "fake news                               68\n",
       "mostly-correct                          62\n",
       "mostly fiction!                         60\n",
       "half flip                               57\n",
       "stalled                                 57\n",
       "determination: mostly true              54\n",
       "fake                                    52\n",
       "legend                                  51\n",
       "4 pinnochios                            48\n",
       "disputed!                               48\n",
       "determination: misleading               45\n",
       "unsubstantiated messages                44\n",
       "outdated                                40\n",
       "factscan score: false                   35\n",
       "truth! & misleading!                    35\n",
       "3 pinnochios                            33\n",
       "authorship confirmed!                   30\n",
       "factscan score: true                    28\n",
       "misattributed                           28\n",
       "2 pinnochios                            27\n",
       "3                                       27\n",
       "scam                                    25\n",
       "mostly truth!                           25\n",
       "factscan score: misleading              25\n",
       "misleading recommendations              22\n",
       "determination: barely true              22\n",
       "mostly_true                             21\n",
       "determination: huckster propaganda      20\n",
       "confirmed authorship!                   20\n",
       "incorrect attribution!                  20\n",
       "accurate                                20\n",
       "verdict: unsubstantiated                20\n",
       "no flip                                 20\n",
       "commentary!                             19\n",
       "not the whole story                     19\n",
       "scam!                                   17\n",
       "unsupported                             17\n",
       "correct attribution                     17\n",
       "outdated!                               16\n",
       "None                                    15\n",
       "truth! & outdated!                      15\n",
       "virus!                                  15\n",
       "10                                      14\n",
       "fiction! & satire!                      14\n",
       "verified                                14\n",
       "misleading!                             12\n",
       "truth! & unproven!                      12\n",
       "understated                             12\n",
       "half true                               12\n",
       "fact                                    12\n",
       "investigation pending!                  11\n",
       "a lot of baloney                        11\n",
       "distorts the facts                      11\n",
       "a little baloney                        10\n",
       "conclusion: accurate                     8\n",
       "some baloney                             7\n",
       "opinion!                                 7\n",
       "previously truth! now resolved!          7\n",
       "exaggerated                              6\n",
       "no evidence                              6\n",
       "partly true                              6\n",
       "spins the facts                          6\n",
       "partially true                           6\n",
       "unverified                               5\n",
       "conclusion: false                        5\n",
       "conclusion: unclear                      5\n",
       "we rate this claim false                 5\n",
       "inaccurate attribution!                  5\n",
       "rating: false                            5\n",
       "needs context                            5\n",
       "determination: a stretch                 5\n",
       "unobservable                             5\n",
       "fiction                                  5\n",
       "correct attribution!                     5\n",
       "truth! & disputed!                       4\n",
       "grass roots movement!                    4\n",
       "4                                        4\n",
       "mostly_false                             4\n",
       "exaggerates                              4\n",
       "cherry picks                             2\n",
       "Name: 2, dtype: int64"
      ]
     },
     "execution_count": 28,
     "metadata": {},
     "output_type": "execute_result"
    }
   ],
   "source": [
    "train[2].value_counts()"
   ]
  },
  {
   "cell_type": "code",
   "execution_count": 29,
   "metadata": {},
   "outputs": [],
   "source": [
    "train[13] = 0\n",
    "dev[13] = 0"
   ]
  },
  {
   "cell_type": "code",
   "execution_count": 30,
   "metadata": {},
   "outputs": [],
   "source": [
    "true_label_list = ['mostly true', 'true', 'truth!', 'promise kept', 'true messages', 'verdict: true', 'correct', \n",
    "                   'determination: true', 'in-the-green', 'mostly-correct', 'determination: mostly true', 'authorship confirmed!',\n",
    "                   'factscan score: true', 'mostly truth!', 'mostly_true', 'confirmed authorship!', 'accurate', 'correct attribution',\n",
    "                   'verified', 'fact', 'conclusion: accurate', 'correct attribution!', '10', '9', '8', 'no flip']"
   ]
  },
  {
   "cell_type": "code",
   "execution_count": 31,
   "metadata": {},
   "outputs": [],
   "source": [
    "train.loc[train[2].isin(true_label_list), 13] = 1\n",
    "dev.loc[dev[2].isin(true_label_list), 13] = 1"
   ]
  },
  {
   "cell_type": "code",
   "execution_count": 32,
   "metadata": {},
   "outputs": [
    {
     "name": "stdout",
     "output_type": "stream",
     "text": [
      "True news: 6946 ~ 24.92%\n"
     ]
    }
   ],
   "source": [
    "print(\"True news:\", len(train[train[13]==1]), \"~ {:.2%}\".format(len(train[train[13]==1])/len(train)))"
   ]
  },
  {
   "cell_type": "code",
   "execution_count": 33,
   "metadata": {},
   "outputs": [
    {
     "name": "stdout",
     "output_type": "stream",
     "text": [
      "True news: 872 ~ 25.03%\n"
     ]
    }
   ],
   "source": [
    "print(\"True news:\", len(dev[dev[13]==1]), \"~ {:.2%}\".format(len(dev[dev[13]==1])/len(dev)))"
   ]
  },
  {
   "cell_type": "code",
   "execution_count": 34,
   "metadata": {},
   "outputs": [
    {
     "name": "stderr",
     "output_type": "stream",
     "text": [
      "/Users/khoa/anaconda3/lib/python3.7/site-packages/ipykernel_launcher.py:1: FutureWarning: The signature of `Series.to_csv` was aligned to that of `DataFrame.to_csv`, and argument 'header' will change its default value from False to True: please pass an explicit value to suppress this warning.\n",
      "  \"\"\"Entry point for launching an IPython kernel.\n"
     ]
    }
   ],
   "source": [
    "train[train[13]==1][1].to_csv('data/train1.txt', header=None, index=False)"
   ]
  },
  {
   "cell_type": "code",
   "execution_count": 35,
   "metadata": {},
   "outputs": [
    {
     "name": "stderr",
     "output_type": "stream",
     "text": [
      "/Users/khoa/anaconda3/lib/python3.7/site-packages/ipykernel_launcher.py:1: FutureWarning: The signature of `Series.to_csv` was aligned to that of `DataFrame.to_csv`, and argument 'header' will change its default value from False to True: please pass an explicit value to suppress this warning.\n",
      "  \"\"\"Entry point for launching an IPython kernel.\n"
     ]
    }
   ],
   "source": [
    "train[train[13]==0][1].to_csv('data/train2.txt', header=None, index=False)"
   ]
  },
  {
   "cell_type": "code",
   "execution_count": 36,
   "metadata": {},
   "outputs": [
    {
     "name": "stderr",
     "output_type": "stream",
     "text": [
      "/Users/khoa/anaconda3/lib/python3.7/site-packages/ipykernel_launcher.py:1: FutureWarning: The signature of `Series.to_csv` was aligned to that of `DataFrame.to_csv`, and argument 'header' will change its default value from False to True: please pass an explicit value to suppress this warning.\n",
      "  \"\"\"Entry point for launching an IPython kernel.\n"
     ]
    }
   ],
   "source": [
    "dev[dev[13]==1][1].to_csv('data/valid1.txt', header=None, index=False)"
   ]
  },
  {
   "cell_type": "code",
   "execution_count": 37,
   "metadata": {},
   "outputs": [
    {
     "name": "stderr",
     "output_type": "stream",
     "text": [
      "/Users/khoa/anaconda3/lib/python3.7/site-packages/ipykernel_launcher.py:1: FutureWarning: The signature of `Series.to_csv` was aligned to that of `DataFrame.to_csv`, and argument 'header' will change its default value from False to True: please pass an explicit value to suppress this warning.\n",
      "  \"\"\"Entry point for launching an IPython kernel.\n"
     ]
    }
   ],
   "source": [
    "dev[dev[13]==0][1].to_csv('data/valid2.txt', header=None, index=False)"
   ]
  },
  {
   "cell_type": "code",
   "execution_count": 40,
   "metadata": {},
   "outputs": [
    {
     "name": "stderr",
     "output_type": "stream",
     "text": [
      "/Users/khoa/anaconda3/lib/python3.7/site-packages/ipykernel_launcher.py:1: FutureWarning: The signature of `Series.to_csv` was aligned to that of `DataFrame.to_csv`, and argument 'header' will change its default value from False to True: please pass an explicit value to suppress this warning.\n",
      "  \"\"\"Entry point for launching an IPython kernel.\n"
     ]
    }
   ],
   "source": [
    "test[1].to_csv('data/test0.txt', header=None, index=False)"
   ]
  },
  {
   "cell_type": "code",
   "execution_count": null,
   "metadata": {},
   "outputs": [],
   "source": []
  }
 ],
 "metadata": {
  "kernelspec": {
   "display_name": "Python 3",
   "language": "python",
   "name": "python3"
  },
  "language_info": {
   "codemirror_mode": {
    "name": "ipython",
    "version": 3
   },
   "file_extension": ".py",
   "mimetype": "text/x-python",
   "name": "python",
   "nbconvert_exporter": "python",
   "pygments_lexer": "ipython3",
   "version": "3.7.3"
  }
 },
 "nbformat": 4,
 "nbformat_minor": 4
}
