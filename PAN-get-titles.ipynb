{
 "cells": [
  {
   "cell_type": "code",
   "execution_count": 2,
   "metadata": {},
   "outputs": [],
   "source": [
    "import nltk\n",
    "import re"
   ]
  },
  {
   "cell_type": "code",
   "execution_count": 3,
   "metadata": {},
   "outputs": [],
   "source": [
    "import xml.etree.ElementTree as ET"
   ]
  },
  {
   "cell_type": "code",
   "execution_count": 9,
   "metadata": {},
   "outputs": [],
   "source": [
    "def get_titles(data_file, ground_truth_file, output_file1, output_file2):\n",
    "    gt_tree = ET.parse(ground_truth_file)\n",
    "    gt_root = gt_tree.getroot()\n",
    "    \n",
    "    ground_truth = {}\n",
    "    for child in gt_root:\n",
    "        ground_truth[child.attrib['id']] = child.attrib['hyperpartisan']\n",
    "    \n",
    "    tree = ET.parse(data_file)\n",
    "    root = tree.getroot()\n",
    "    \n",
    "    f1 = open(output_file1, 'w+')\n",
    "    f2 = open(output_file2, 'w+')\n",
    "    for child in root:\n",
    "        words = [word for word in nltk.word_tokenize(child.attrib['title'].lower()) if re.sub(r'[^\\w\\s]', '', word) != '']\n",
    "        if len(words):\n",
    "            words.append('.\\n')\n",
    "            title = \" \".join(words)\n",
    "            if child.attrib['id'] in  ground_truth and ground_truth[child.attrib['id']] == 'true':\n",
    "                f1.write(title)\n",
    "            else:\n",
    "                f2.write(title)\n",
    "    f1.close()\n",
    "    f2.close()"
   ]
  },
  {
   "cell_type": "code",
   "execution_count": 10,
   "metadata": {
    "scrolled": true
   },
   "outputs": [],
   "source": [
    "get_titles(\n",
    "    '../dataset/articles-training-bypublisher-20181122.xml',\n",
    "    '../dataset/ground-truth-training-bypublisher-20181122.xml',\n",
    "    'train1.txt',\n",
    "    'train2.txt'\n",
    ")\n",
    "\n",
    "get_titles(\n",
    "    '../dataset/articles-validation-bypublisher-20181122.xml',\n",
    "    '../dataset/ground-truth-validation-bypublisher-20181122.xml',\n",
    "    'valid1.txt',\n",
    "    'valid2.txt'\n",
    ")"
   ]
  }
 ],
 "metadata": {
  "kernelspec": {
   "display_name": "Python 3",
   "language": "python",
   "name": "python3"
  }
 },
 "nbformat": 4,
 "nbformat_minor": 2
}
