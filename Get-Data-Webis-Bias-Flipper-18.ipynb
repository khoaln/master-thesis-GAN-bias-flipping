{
 "cells": [
  {
   "cell_type": "code",
   "execution_count": 1,
   "metadata": {},
   "outputs": [],
   "source": [
    "import pandas as pd\n",
    "import nltk\n",
    "pd.set_option('display.max_rows', 500)"
   ]
  },
  {
   "cell_type": "code",
   "execution_count": 2,
   "metadata": {},
   "outputs": [],
   "source": [
    "data = pd.read_csv('~/Documents/UiS/Thesis/dataset/allsides-collection/data_public.csv')"
   ]
  },
  {
   "cell_type": "code",
   "execution_count": 3,
   "metadata": {},
   "outputs": [
    {
     "output_type": "execute_result",
     "data": {
      "text/plain": "   story_id             bias  \\\n0         0   From the Right   \n1         0    From the Left   \n2         1    From the Left   \n3         1  From the Center   \n4         1   From the Right   \n\n                                               title  \\\n0  Report: DACA-age illegals far more likely to c...   \n1  Trump’s claim that immigrants bring ‘tremendou...   \n2  Trump Accuses His Justice Department FBI Of Fa...   \n3  Trump accuses FBI Justice Department of politi...   \n4  Trump accuses FBI DOJ leadership of bias again...   \n\n                                                body               source  \\\n0  A new report about crimes committed by illegal...  Washington Examiner   \n1  Trump earned Four Pinocchios the last time we ...      Washington Post   \n2             Many of them are actually Republicans.             HuffPost   \n3  President Donald Trump attacked the integrity ...              Reuters   \n4  President Trump said Friday the leaders at the...     Washington Times   \n\n                                      original_title  \\\n0  Report: DACA-age illegals far more likely to c...   \n1  Trump’s claim that immigrants bring ‘tremendou...   \n2  Trump Accuses His Justice Department FBI Of Fa...   \n3  Explosive memo released as Trump escalates fig...   \n4  Trump accuses FBI DOJ leadership of bias again...   \n\n                                       original_body  \n0  A new report about crimes committed by illegal...  \n1  “The Democrats are really looking at something...  \n2  In his latest unprecedented attack on federal ...  \n3  WASHINGTON (Reuters) - President Donald Trump ...  \n4  President Trump said Friday the leaders at the...  ",
      "text/html": "<div>\n<style scoped>\n    .dataframe tbody tr th:only-of-type {\n        vertical-align: middle;\n    }\n\n    .dataframe tbody tr th {\n        vertical-align: top;\n    }\n\n    .dataframe thead th {\n        text-align: right;\n    }\n</style>\n<table border=\"1\" class=\"dataframe\">\n  <thead>\n    <tr style=\"text-align: right;\">\n      <th></th>\n      <th>story_id</th>\n      <th>bias</th>\n      <th>title</th>\n      <th>body</th>\n      <th>source</th>\n      <th>original_title</th>\n      <th>original_body</th>\n    </tr>\n  </thead>\n  <tbody>\n    <tr>\n      <th>0</th>\n      <td>0</td>\n      <td>From the Right</td>\n      <td>Report: DACA-age illegals far more likely to c...</td>\n      <td>A new report about crimes committed by illegal...</td>\n      <td>Washington Examiner</td>\n      <td>Report: DACA-age illegals far more likely to c...</td>\n      <td>A new report about crimes committed by illegal...</td>\n    </tr>\n    <tr>\n      <th>1</th>\n      <td>0</td>\n      <td>From the Left</td>\n      <td>Trump’s claim that immigrants bring ‘tremendou...</td>\n      <td>Trump earned Four Pinocchios the last time we ...</td>\n      <td>Washington Post</td>\n      <td>Trump’s claim that immigrants bring ‘tremendou...</td>\n      <td>“The Democrats are really looking at something...</td>\n    </tr>\n    <tr>\n      <th>2</th>\n      <td>1</td>\n      <td>From the Left</td>\n      <td>Trump Accuses His Justice Department FBI Of Fa...</td>\n      <td>Many of them are actually Republicans.</td>\n      <td>HuffPost</td>\n      <td>Trump Accuses His Justice Department FBI Of Fa...</td>\n      <td>In his latest unprecedented attack on federal ...</td>\n    </tr>\n    <tr>\n      <th>3</th>\n      <td>1</td>\n      <td>From the Center</td>\n      <td>Trump accuses FBI Justice Department of politi...</td>\n      <td>President Donald Trump attacked the integrity ...</td>\n      <td>Reuters</td>\n      <td>Explosive memo released as Trump escalates fig...</td>\n      <td>WASHINGTON (Reuters) - President Donald Trump ...</td>\n    </tr>\n    <tr>\n      <th>4</th>\n      <td>1</td>\n      <td>From the Right</td>\n      <td>Trump accuses FBI DOJ leadership of bias again...</td>\n      <td>President Trump said Friday the leaders at the...</td>\n      <td>Washington Times</td>\n      <td>Trump accuses FBI DOJ leadership of bias again...</td>\n      <td>President Trump said Friday the leaders at the...</td>\n    </tr>\n  </tbody>\n</table>\n</div>"
     },
     "metadata": {},
     "execution_count": 3
    }
   ],
   "source": [
    "data.head(5)"
   ]
  },
  {
   "cell_type": "code",
   "execution_count": 18,
   "metadata": {},
   "outputs": [],
   "source": [
    "train1 = []\n",
    "train2 = []\n",
    "valid1 = list(data['original_title'])\n",
    "valid2 = list(data['title'])\n",
    "\n",
    "train1.extend(valid1)\n",
    "for content in data['original_body']:\n",
    "    try:\n",
    "        sentences = nltk.sent_tokenize(content)\n",
    "        train1.extend(sentences)\n",
    "    except:\n",
    "        pass\n",
    "\n",
    "train2.extend(valid2)\n",
    "for content in data['body']:\n",
    "    try:\n",
    "        sentences = nltk.sent_tokenize(content)\n",
    "        train2.extend(sentences)\n",
    "    except:\n",
    "        pass"
   ]
  },
  {
   "cell_type": "code",
   "execution_count": 27,
   "metadata": {},
   "outputs": [],
   "source": [
    "def write_file(filepath, text):\n",
    "    with open(filepath,'w') as file:\n",
    "        for line in text:\n",
    "            if isinstance(line, str):\n",
    "                file.write(line)\n",
    "                file.write('\\n')"
   ]
  },
  {
   "cell_type": "code",
   "execution_count": 29,
   "metadata": {},
   "outputs": [],
   "source": [
    "write_file('webis/train1.txt', train1)\n",
    "write_file('webis/train2.txt', train2)\n",
    "write_file('webis/valid1.txt', valid1)\n",
    "write_file('webis/valid2.txt', valid2)"
   ]
  },
  {
   "cell_type": "code",
   "execution_count": null,
   "metadata": {},
   "outputs": [],
   "source": []
  }
 ],
 "metadata": {
  "language_info": {
   "codemirror_mode": {
    "name": "ipython",
    "version": 3
   },
   "file_extension": ".py",
   "mimetype": "text/x-python",
   "name": "python",
   "nbconvert_exporter": "python",
   "pygments_lexer": "ipython3",
   "version": "3.7.3-final"
  },
  "orig_nbformat": 2,
  "kernelspec": {
   "name": "python3",
   "display_name": "Python 3"
  }
 },
 "nbformat": 4,
 "nbformat_minor": 2
}